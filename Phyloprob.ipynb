{
 "cells": [
  {
   "cell_type": "code",
   "execution_count": 204,
   "metadata": {},
   "outputs": [
    {
     "name": "stdout",
     "output_type": "stream",
     "text": [
      "   0  1\n",
      "0  9  1\n",
      "1  9  2\n",
      "2  8  9\n",
      "3  8  3\n",
      "4  7  4\n",
      "5  7  5\n",
      "6  6  7\n",
      "7  6  8\n",
      "   0                               1\n",
      "0  1  AGATCAAGATCAAGATCAAGATCAAGATCA\n",
      "1  2  AGCTCAAGCTCAAGCTCAAGCTCAAGCTCA\n",
      "2  3  CGCTATCGCTATCGCTATCGCTATCGCTAT\n",
      "3  4  CGTTACCGTTACCGTTACCGTTACCGTTAC\n",
      "4  5  CGCTACCGCTACCGCTACCGCTACCGCTAC\n",
      "     0    1     2     3    4     5     6     7\n",
      "0  0.1  0.4  0.01  0.04  0.2  0.08  0.12  0.14\n"
     ]
    }
   ],
   "source": [
    "#load the data\n",
    "\n",
    "import csv\n",
    "import pandas as pd\n",
    "import numpy as np\n",
    "import scipy as sp \n",
    "import math\n",
    "with open('table.dat', 'r') as file:\n",
    "    table = pd.read_csv(file, delimiter=',', header = None)\n",
    "\n",
    "with open('msa.dat', 'r') as file:\n",
    "    msa = pd.read_csv(file, delimiter=',', header = None)\n",
    "\n",
    "with open('branchlength.dat', 'r') as file:\n",
    "    brlen = pd.read_csv(file, delimiter=',', header = None)\n",
    "\n",
    "msa[[0,1]] = msa[0].str.split(' ', expand=True)\n",
    "msa[0] = pd.to_numeric(msa[0])\n",
    "Q = np.array([[-0.5625,0.1875,0.1875,0.1875],[0.1875,-0.5625,0.1875,0.1875],\n",
    " [0.1875,0.1875,-0.5625,0.1875],[0.1875,0.1875,0.1875,-0.5625]])\n",
    "print(table)\n",
    "print(msa)\n",
    "print(brlen)"
   ]
  },
  {
   "cell_type": "code",
   "execution_count": 155,
   "metadata": {},
   "outputs": [
    {
     "name": "stdout",
     "output_type": "stream",
     "text": [
      "CGCTACCGCTACCGCTACCGCTACCGCTAC\n"
     ]
    }
   ],
   "source": [
    "print(msa[1].values[4])"
   ]
  },
  {
   "cell_type": "code",
   "execution_count": 156,
   "metadata": {},
   "outputs": [],
   "source": [
    "#define the class\n",
    "\n",
    "class Node:\n",
    "    def __init__(self, number, parent, sibling, seq, length, root):\n",
    "        self.number = number\n",
    "        self.parent = parent\n",
    "        self.sibling = sibling\n",
    "        self.seq = seq\n",
    "        self.length = length\n",
    "        self.root = root\n",
    "\n",
    "    def add_probability_matrix(self, matrix):\n",
    "        if hasattr(self, 'length') and self.length is not None:\n",
    "            self.matrix = sp.linalg.expm(self.length * matrix)\n",
    "        else:\n",
    "            print(\"No length attribute found\")\n",
    "            self.matrix = None\n",
    "    def add_seq_probability(self):\n",
    "        base_prob = {\"A\": np.array([1,0,0,0]), \"T\":np.array([0,1,0,0]), \"C\" : np.array([0,0,1,0]), \"G\" : np.array([0,0,0,1])}\n",
    "        map_values = np.vectorize(lambda x: base_prob[x], signature='()->(n)')\n",
    "        if hasattr(self, 'seq') and self.seq is not None:\n",
    "            self.prob = map_values(self.seq)\n",
    "        else:\n",
    "            print(\"No sequence attribute found\")\n",
    "            self.prob = None\n",
    "\n",
    "class Tree:\n",
    "    def __init__(self, position):\n",
    "        self.position = position\n",
    "    def fill_probability_matrix(self, matrix):\n",
    "        for node in self.position:\n",
    "            node.add_probability_matrix(matrix)\n",
    "            node.add_seq_probability()\n",
    "    def fill_probability_sequence(self):\n",
    "        root_node = None\n",
    "        for node in self.position:\n",
    "            if node.root:\n",
    "                root_node = node.number    "
   ]
  },
  {
   "cell_type": "code",
   "execution_count": 157,
   "metadata": {},
   "outputs": [],
   "source": [
    "def create_node_list(tab, ms, brl):\n",
    "    node_list = []\n",
    "    nodes = {}\n",
    "    branches = iter(brl.iloc[0])\n",
    "    for i in range(len(tab[1])):\n",
    "            \n",
    "        itself = tab[1][i]\n",
    "        parent =  tab[0][i]\n",
    "        sib_index = [index for index, value in enumerate(tab[0]) if value == parent and tab[1][index] != itself]\n",
    "        sibling = tab[1][sib_index[0]]\n",
    "        branch = next(branches)\n",
    "        sequence = np.array(list(ms[1].values[itself-1])) if itself in ms[0].values else None\n",
    "        root = None       \n",
    "        nodes[itself] = Node(itself, parent, sibling, sequence, branch, root)\n",
    "        node_list.append(nodes[itself])\n",
    "    for i in tab[0]:\n",
    "\n",
    "        if i not in list(tab[1]):\n",
    "            itself = i\n",
    "            parent =  None\n",
    "            sibling = None\n",
    "            branch = None\n",
    "            root = True\n",
    "            sequence = np.array(list(ms[1][itself])) if itself in ms[0] else None\n",
    "            nodes[itself] = Node(itself, parent, sibling, sequence, branch, root)\n",
    "            node_list.append(nodes[itself])\n",
    "            break\n",
    "    return node_list\n",
    "\n",
    "def find_node_by_number(node_list, number):\n",
    "    for node in node_list:\n",
    "        if node.number == number:\n",
    "            return node\n",
    "    return None\n",
    "\n",
    "def find_node_by_sigling(node_list, number):\n",
    "    for node in node_list:\n",
    "        if node.number == find_node_by_number(node_list, number).sibling:\n",
    "            return node\n",
    "    return None\n",
    "def find_node_by_parent(node_list, number):\n",
    "    for node in node_list:\n",
    "        if node.number == find_node_by_number(node_list, number).parent:\n",
    "            return node\n",
    "    return None"
   ]
  },
  {
   "cell_type": "code",
   "execution_count": 171,
   "metadata": {},
   "outputs": [
    {
     "name": "stdout",
     "output_type": "stream",
     "text": [
      "[<__main__.Node object at 0x0000026F7FB34B50>, <__main__.Node object at 0x0000026F7FBFF880>, <__main__.Node object at 0x0000026F7FC202B0>, <__main__.Node object at 0x0000026F0106C970>, <__main__.Node object at 0x0000026F0106C910>, <__main__.Node object at 0x0000026F02995090>, <__main__.Node object at 0x0000026F029950C0>, <__main__.Node object at 0x0000026F02995060>, <__main__.Node object at 0x0000026F02995000>]\n",
      "No sequence attribute found\n",
      "No sequence attribute found\n",
      "No sequence attribute found\n",
      "No length attribute found\n",
      "No sequence attribute found\n",
      "[[1 0 0 0]\n",
      " [0 0 0 1]\n",
      " [1 0 0 0]\n",
      " [0 1 0 0]\n",
      " [0 0 1 0]\n",
      " [1 0 0 0]\n",
      " [1 0 0 0]\n",
      " [0 0 0 1]\n",
      " [1 0 0 0]\n",
      " [0 1 0 0]\n",
      " [0 0 1 0]\n",
      " [1 0 0 0]\n",
      " [1 0 0 0]\n",
      " [0 0 0 1]\n",
      " [1 0 0 0]\n",
      " [0 1 0 0]\n",
      " [0 0 1 0]\n",
      " [1 0 0 0]\n",
      " [1 0 0 0]\n",
      " [0 0 0 1]\n",
      " [1 0 0 0]\n",
      " [0 1 0 0]\n",
      " [0 0 1 0]\n",
      " [1 0 0 0]\n",
      " [1 0 0 0]\n",
      " [0 0 0 1]\n",
      " [1 0 0 0]\n",
      " [0 1 0 0]\n",
      " [0 0 1 0]\n",
      " [1 0 0 0]]\n"
     ]
    }
   ],
   "source": [
    "tree_test = Tree(create_node_list(table, msa, brlen))\n",
    "print(tree_test.position)\n",
    "tree_test.fill_probability_matrix(Q)\n",
    "print(tree_test.position[0].prob)\n",
    "\n"
   ]
  },
  {
   "cell_type": "code",
   "execution_count": 199,
   "metadata": {},
   "outputs": [],
   "source": [
    "for node in tree_test.position:\n",
    "    sib = find_node_by_sigling(tree_test.position, node.number)\n",
    "    parent = find_node_by_parent(tree_test.position, node.number)\n",
    "    \n",
    "    if node.root == False:\n",
    "        if node.prob is not None and sib.prob is not None and parent.prob is None:\n",
    "            vec1 = np.matmul(node.prob, node.matrix)\n",
    "            vec2 = np.matmul(sib.prob, sib.matrix)\n",
    "            vec_parent = vec1 * vec2\n",
    "            parent.prob = vec_parent\n",
    "        else:\n",
    "            continue\n",
    "    "
   ]
  },
  {
   "cell_type": "code",
   "execution_count": 215,
   "metadata": {},
   "outputs": [
    {
     "name": "stdout",
     "output_type": "stream",
     "text": [
      "[1, 2, 9, 3, 4, 5, 7, 8, 6]\n",
      "[2, 1, 3, 9, 5, 4, 8, 7, None]\n",
      "-188.20007684036113\n",
      "1.0899999999999999\n"
     ]
    }
   ],
   "source": [
    "#print(np.matmul(tree_test.position[2].prob, tree_test.position[2].matrix))\n",
    "\n",
    "print([node.number for node in tree_test.position])\n",
    "print([node.sibling for node in tree_test.position])\n",
    "#print(tree_test.position[8].prob)\n",
    "#print(find_node_by_number(tree_test.position, 4).seq)\n",
    "#print([find_node_by_sigling(tree_test.position, node.number).number for node in tree_test.position])\n",
    "npmm = np.matmul(tree_test.position[8].prob, np.array([0.25,0.25,0.25,0.25])) \n",
    "print(sum([math.log(npmm.flatten()[i]) for i in range(len(npmm.flatten()))]))\n",
    "print(sum([node.length for node in tree_test.position if node.length is not None]))"
   ]
  },
  {
   "cell_type": "code",
   "execution_count": 10,
   "metadata": {},
   "outputs": [
    {
     "data": {
      "text/plain": [
       "array([[0.06128403, 0.00117047, 0.01455271, 0.00117047],\n",
       "       [0.00117047, 0.00117047, 0.00117047, 0.76195554],\n",
       "       [0.00117047, 0.00117047, 0.76195554, 0.00117047],\n",
       "       [0.00117047, 0.76195554, 0.00117047, 0.00117047],\n",
       "       [0.01455271, 0.00117047, 0.06128403, 0.00117047],\n",
       "       [0.06128403, 0.01455271, 0.00117047, 0.00117047],\n",
       "       [0.06128403, 0.00117047, 0.01455271, 0.00117047],\n",
       "       [0.00117047, 0.00117047, 0.00117047, 0.76195554],\n",
       "       [0.00117047, 0.00117047, 0.76195554, 0.00117047],\n",
       "       [0.00117047, 0.76195554, 0.00117047, 0.00117047],\n",
       "       [0.01455271, 0.00117047, 0.06128403, 0.00117047],\n",
       "       [0.06128403, 0.01455271, 0.00117047, 0.00117047],\n",
       "       [0.06128403, 0.00117047, 0.01455271, 0.00117047],\n",
       "       [0.00117047, 0.00117047, 0.00117047, 0.76195554],\n",
       "       [0.00117047, 0.00117047, 0.76195554, 0.00117047],\n",
       "       [0.00117047, 0.76195554, 0.00117047, 0.00117047],\n",
       "       [0.01455271, 0.00117047, 0.06128403, 0.00117047],\n",
       "       [0.06128403, 0.01455271, 0.00117047, 0.00117047],\n",
       "       [0.06128403, 0.00117047, 0.01455271, 0.00117047],\n",
       "       [0.00117047, 0.00117047, 0.00117047, 0.76195554],\n",
       "       [0.00117047, 0.00117047, 0.76195554, 0.00117047],\n",
       "       [0.00117047, 0.76195554, 0.00117047, 0.00117047],\n",
       "       [0.01455271, 0.00117047, 0.06128403, 0.00117047],\n",
       "       [0.06128403, 0.01455271, 0.00117047, 0.00117047],\n",
       "       [0.06128403, 0.00117047, 0.01455271, 0.00117047],\n",
       "       [0.00117047, 0.00117047, 0.00117047, 0.76195554],\n",
       "       [0.00117047, 0.00117047, 0.76195554, 0.00117047],\n",
       "       [0.00117047, 0.76195554, 0.00117047, 0.00117047],\n",
       "       [0.01455271, 0.00117047, 0.06128403, 0.00117047],\n",
       "       [0.06128403, 0.01455271, 0.00117047, 0.00117047]])"
      ]
     },
     "execution_count": 10,
     "metadata": {},
     "output_type": "execute_result"
    }
   ],
   "source": [
    "# Need to create function within the tree class to calculate the likelihood of the tree\n",
    "#Create the likelyhood matrix of known sequences\n",
    "\n",
    "base_prob = {\"A\": np.array([1,0,0,0]), \"T\":np.array([0,1,0,0]), \"C\" : np.array([0,0,1,0]), \"G\" : np.array([0,0,0,1])}\n",
    "map_values = np.vectorize(lambda x: base_prob[x], signature='()->(n)')\n",
    "\n",
    "seq_prob1 = map_values(tree_test.position[0].seq)\n",
    "seq_prob2 = map_values(tree_test.position[1].seq)\n",
    "Q = np.array([[-0.5625,0.1875,0.1875,0.1875],[0.1875,-0.5625,0.1875,0.1875],\n",
    " [0.1875,0.1875,-0.5625,0.1875],[0.1875,0.1875,0.1875,-0.5625]])\n",
    "\n",
    "P1 = sp.linalg.expm(tree_test.position[0].length * Q ) \n",
    "P2 = sp.linalg.expm(tree_test.position[1].length * Q )\n",
    "vec1 = np.matmul(seq_prob1, P1)\n",
    "vec2 = np.matmul(seq_prob2, P2)\n",
    "vec_root= vec1 * vec2\n",
    "vec_root\n"
   ]
  }
 ],
 "metadata": {
  "kernelspec": {
   "display_name": "base",
   "language": "python",
   "name": "python3"
  },
  "language_info": {
   "codemirror_mode": {
    "name": "ipython",
    "version": 3
   },
   "file_extension": ".py",
   "mimetype": "text/x-python",
   "name": "python",
   "nbconvert_exporter": "python",
   "pygments_lexer": "ipython3",
   "version": "3.10.9"
  }
 },
 "nbformat": 4,
 "nbformat_minor": 2
}
