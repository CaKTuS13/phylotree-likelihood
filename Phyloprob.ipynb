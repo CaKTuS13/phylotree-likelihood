{
 "cells": [
  {
   "cell_type": "code",
   "execution_count": 17,
   "metadata": {},
   "outputs": [
    {
     "name": "stdout",
     "output_type": "stream",
     "text": [
      "   0  1\n",
      "0  9  1\n",
      "1  9  2\n",
      "2  8  9\n",
      "3  8  3\n",
      "4  7  4\n",
      "5  7  5\n",
      "6  6  7\n",
      "7  6  8\n",
      "   0                               1\n",
      "0  1  AGATCAAGATCAAGATCAAGATCAAGATCA\n",
      "1  2  AGCTCAAGCTCAAGCTCAAGCTCAAGCTCA\n",
      "2  3  CGCTATCGCTATCGCTATCGCTATCGCTAT\n",
      "3  4  CGTTACCGTTACCGTTACCGTTACCGTTAC\n",
      "4  5  CGCTACCGCTACCGCTACCGCTACCGCTAC\n",
      "     0    1     2     3    4     5     6     7\n",
      "0  0.1  0.4  0.01  0.04  0.2  0.08  0.12  0.14\n"
     ]
    }
   ],
   "source": [
    "#load the data\n",
    "\n",
    "import csv\n",
    "import pandas as pd\n",
    "import numpy as np\n",
    "import scipy as sp \n",
    "\n",
    "with open('table.dat', 'r') as file:\n",
    "    table = pd.read_csv(file, delimiter=',', header = None)\n",
    "\n",
    "with open('msa.dat', 'r') as file:\n",
    "    msa = pd.read_csv(file, delimiter=',', header = None)\n",
    "\n",
    "with open('branchlength.dat', 'r') as file:\n",
    "    brlen = pd.read_csv(file, delimiter=',', header = None)\n",
    "\n",
    "msa[[0,1]] = msa[0].str.split(' ', expand=True)\n",
    "msa[0] = pd.to_numeric(msa[0])\n",
    "print(table)\n",
    "print(msa)\n",
    "print(brlen)"
   ]
  },
  {
   "cell_type": "code",
   "execution_count": 9,
   "metadata": {},
   "outputs": [],
   "source": [
    "#define the class\n",
    "\n",
    "class Node:\n",
    "    def __init__(self, number, parent, sibling, seq, lenght):\n",
    "        self.number = number\n",
    "        self.parent = parent\n",
    "        self.sibling = sibling\n",
    "        self.seq = seq\n",
    "        self.length = lenght\n",
    "\n",
    "class Tree:\n",
    "    def __init__(self, position):\n",
    "        self.position = position\n",
    "\n",
    "        "
   ]
  },
  {
   "cell_type": "code",
   "execution_count": 10,
   "metadata": {},
   "outputs": [],
   "source": [
    "def create_node_list(tab, ms, brl):\n",
    "    node_list = []\n",
    "    nodes = {}\n",
    "    branches = iter(brl.iloc[0])\n",
    "    for i in range(len(tab[1])):\n",
    "            \n",
    "        itself = tab[1][i]\n",
    "        parent =  tab[0][i]\n",
    "        sib_index = [index for index, value in enumerate(tab[0]) if value == parent and tab[1][index] != itself]\n",
    "        sibling = tab[1][sib_index[0]]\n",
    "        branch = next(branches)\n",
    "        sequence = np.array(list(ms[1][itself])) if itself in ms[0] else None       \n",
    "        nodes[itself] = Node(itself, parent, sibling, sequence, branch)\n",
    "        node_list.append(nodes[itself])\n",
    "    for i in tab[0]:\n",
    "\n",
    "        if i not in list(tab[1]):\n",
    "            itself = i\n",
    "            parent =  None\n",
    "            sibling = None\n",
    "            branch = None\n",
    "            sequence = np.array(list(ms[1][itself])) if itself in ms[0] else None\n",
    "            nodes[itself] = Node(itself, parent, sibling, sequence, branch)\n",
    "            node_list.append(nodes[itself])\n",
    "            break\n",
    "    return node_list\n"
   ]
  },
  {
   "cell_type": "code",
   "execution_count": 11,
   "metadata": {},
   "outputs": [
    {
     "name": "stdout",
     "output_type": "stream",
     "text": [
      "9\n"
     ]
    }
   ],
   "source": [
    "tree_test = Tree(create_node_list(table, msa, brlen))\n",
    "print(len(tree_test.position))"
   ]
  },
  {
   "cell_type": "code",
   "execution_count": null,
   "metadata": {},
   "outputs": [
    {
     "data": {
      "text/plain": [
       "array([[0.03, 0.04, 0.35],\n",
       "       [0.04, 0.12, 0.14]])"
      ]
     },
     "execution_count": 25,
     "metadata": {},
     "output_type": "execute_result"
    }
   ],
   "source": []
  },
  {
   "cell_type": "code",
   "execution_count": 26,
   "metadata": {},
   "outputs": [],
   "source": [
    "# Need to create function within the tree class to calculate the likelihood of the tree\n",
    "#Create the likelyhood matrix of known sequences\n",
    "\n",
    "base_prob = {\"A\": np.array([1,0,0,0]), \"T\":np.array([0,1,0,0]), \"C\" : np.array([0,0,1,0]), \"G\" : np.array([0,0,0,1])}\n",
    "\n",
    "map_values = np.vectorize(lambda x: base_prob[x], signature='()->(n)')\n",
    "\n",
    "seq_prob1 = map_values(tree_test.position[0].seq)\n",
    "seq_prob2 = map_values(tree_test.position[1].seq)\n",
    "Q = np.array([[-0.5625,0.1875,0.1875,0.1875],[0.1875,-0.5625,0.1875,0.1875],\n",
    " [0.1875,0.1875,-0.5625,0.1875],[0.1875,0.1875,0.1875,-0.5625]])\n",
    "\n",
    "P1 = sp.linalg.expm(tree_test.position[0].length * Q ) \n",
    "P2 = sp.linalg.expm(tree_test.position[1].length * Q )\n",
    "vec1 = np.matmul(seq_prob1, P1)\n",
    "vec2 = np.matmul(seq_prob2, P2)\n",
    "vec_root= vec1 * vec2"
   ]
  }
 ],
 "metadata": {
  "kernelspec": {
   "display_name": "base",
   "language": "python",
   "name": "python3"
  },
  "language_info": {
   "codemirror_mode": {
    "name": "ipython",
    "version": 3
   },
   "file_extension": ".py",
   "mimetype": "text/x-python",
   "name": "python",
   "nbconvert_exporter": "python",
   "pygments_lexer": "ipython3",
   "version": "3.11.5"
  }
 },
 "nbformat": 4,
 "nbformat_minor": 2
}
